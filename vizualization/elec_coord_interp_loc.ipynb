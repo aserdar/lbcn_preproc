{
 "cells": [
  {
   "cell_type": "code",
   "execution_count": 2,
   "metadata": {},
   "outputs": [
    {
     "name": "stdout",
     "output_type": "stream",
     "text": [
      "How many electrodes?12\n",
      "What are the coordinates of most inner: 10 13 15\n",
      "What are the coordinates of most outer: 20 23 25\n",
      "Coordinations of 2nd elecrodes: \n",
      "10.909090909090908 13.909090909090908 15.909090909090908\n"
     ]
    }
   ],
   "source": [
    "# Electrode coordinate interpolation for localization\n",
    "\n",
    "elec_num = int(input('How many electrodes?'))\n",
    "\n",
    "startco = input('What are the coordinates of most inner: ')\n",
    "startco=startco.split()\n",
    "\n",
    "endco = input('What are the coordinates of most outer: ')\n",
    "endco=endco.split()\n",
    "\n",
    "Sndco=[1, 2, 3]\n",
    "for i in range(len(startco)):\n",
    "  Sndco[i] = float(startco[i])+(float(endco[i])-float(startco[i]))/(elec_num-1)\n",
    "\n",
    "print ('Coordinations of 2nd elecrode''s: ')\n",
    "print(' '.join(map(str, Sndco)))"
   ]
  },
  {
   "cell_type": "code",
   "execution_count": null,
   "metadata": {},
   "outputs": [],
   "source": []
  }
 ],
 "metadata": {
  "kernelspec": {
   "display_name": "Python 3",
   "language": "python",
   "name": "python3"
  },
  "language_info": {
   "codemirror_mode": {
    "name": "ipython",
    "version": 3
   },
   "file_extension": ".py",
   "mimetype": "text/x-python",
   "name": "python",
   "nbconvert_exporter": "python",
   "pygments_lexer": "ipython3",
   "version": "3.6.5"
  }
 },
 "nbformat": 4,
 "nbformat_minor": 2
}
